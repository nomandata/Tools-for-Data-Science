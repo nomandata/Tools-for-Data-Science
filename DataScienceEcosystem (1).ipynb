{
 "cells": [
  {
   "cell_type": "markdown",
   "id": "97226b73-6e3e-44b8-9d09-3aa3d44f9e79",
   "metadata": {},
   "source": [
    "# Data Science Tools and Ecosystem"
   ]
  },
  {
   "cell_type": "markdown",
   "id": "c633fd7c-4f55-4007-93f1-3546189c8df6",
   "metadata": {},
   "source": [
    "## **Objectives:**\n",
    "In this course we will learn following languages\n",
    "- Python\n",
    "- R\n",
    "- SQL\n",
    "- Julia\n",
    "- Scala"
   ]
  },
  {
   "cell_type": "markdown",
   "id": "3093f961-85f9-447a-9071-19d947e850dd",
   "metadata": {},
   "source": [
    "## Introduction\n",
    "Tools for Data Science is the second course in Professional Certificate of IBM Data Science. Moreover, in this notebook Data Science Tools and Ecosystem are summarized."
   ]
  },
  {
   "cell_type": "markdown",
   "id": "987becc0-f789-4976-996e-715ad9da5d8c",
   "metadata": {},
   "source": [
    "## Some of the popular languages that Data Scientists use are:\n",
    "1. Python\n",
    "2. R \n",
    "3. SQL\n",
    "4. Julia\n",
    "5. Scala\n"
   ]
  },
  {
   "cell_type": "markdown",
   "id": "823696dd-ed53-43f3-8bff-14ffd5f35f46",
   "metadata": {},
   "source": [
    "## Some of the commonly used libraries used by Data Scientists include:\n",
    "1. Pandas\n",
    "2. NumPy\n",
    "3. SciPy\n",
    "4. Sci-Kit Learn\n",
    "5. PyCaret\n",
    "6. Tensorflow"
   ]
  },
  {
   "cell_type": "markdown",
   "id": "5bc13872-ac42-4adf-a0e5-10a7e5e02fad",
   "metadata": {},
   "source": [
    "|Data Science Tools|\n",
    "|------------------|\n",
    "|My SQL|\n",
    "|Apache AirFlow|\n",
    "|Pixie Dust|\n",
    "|TensorFlow Light|"
   ]
  },
  {
   "cell_type": "markdown",
   "id": "be842596-7bda-4620-830c-15a5e1952290",
   "metadata": {},
   "source": [
    "### Below are a few examples of evaluating arithmetic expressions in Python"
   ]
  },
  {
   "cell_type": "code",
   "execution_count": 10,
   "id": "9a1a9c36-83fa-46cf-892b-7167bade2100",
   "metadata": {},
   "outputs": [
    {
     "data": {
      "text/plain": [
       "17"
      ]
     },
     "execution_count": 10,
     "metadata": {},
     "output_type": "execute_result"
    }
   ],
   "source": [
    "# This a simple arithmetic expression to mutiply then add integers\n",
    "(3*4)+5"
   ]
  },
  {
   "cell_type": "code",
   "execution_count": 11,
   "id": "65c5dbc9-79ec-4800-8a52-405fcea884c9",
   "metadata": {},
   "outputs": [
    {
     "data": {
      "text/plain": [
       "3.3333333333333335"
      ]
     },
     "execution_count": 11,
     "metadata": {},
     "output_type": "execute_result"
    }
   ],
   "source": [
    "# This will convert 200 minutes to hours by diving by 60\n",
    "200/60"
   ]
  },
  {
   "cell_type": "markdown",
   "id": "d12e592b-3ef8-4425-bbbf-37a3f0ffe01f",
   "metadata": {},
   "source": [
    "## Author\n",
    "Muhammad Noman Shafique"
   ]
  },
  {
   "cell_type": "code",
   "execution_count": null,
   "id": "524fc636-c8db-404a-abee-ef69f44011e7",
   "metadata": {},
   "outputs": [],
   "source": []
  }
 ],
 "metadata": {
  "kernelspec": {
   "display_name": "Python",
   "language": "python",
   "name": "conda-env-python-py"
  },
  "language_info": {
   "codemirror_mode": {
    "name": "ipython",
    "version": 3
   },
   "file_extension": ".py",
   "mimetype": "text/x-python",
   "name": "python",
   "nbconvert_exporter": "python",
   "pygments_lexer": "ipython3",
   "version": "3.7.12"
  }
 },
 "nbformat": 4,
 "nbformat_minor": 5
}
